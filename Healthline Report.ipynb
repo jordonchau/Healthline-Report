{
 "cells": [
  {
   "cell_type": "code",
   "execution_count": 4,
   "id": "a8f904bc-e5d5-4028-afbd-35b9e1743342",
   "metadata": {},
   "outputs": [],
   "source": [
    "import pandas as pd"
   ]
  },
  {
   "cell_type": "code",
   "execution_count": 6,
   "id": "6ec7b8d8-c8b0-4da8-852a-8f915172671a",
   "metadata": {},
   "outputs": [],
   "source": [
    "file_path = \"C:/Users/ninja/Downloads/Data_Analytics_Take_Home_HL.xlsx\""
   ]
  },
  {
   "cell_type": "code",
   "execution_count": 8,
   "id": "830b25a9-3501-4302-9237-5e7261e7325d",
   "metadata": {},
   "outputs": [],
   "source": [
    "data = pd.read_excel(file_path, sheet_name='HL ')"
   ]
  },
  {
   "cell_type": "code",
   "execution_count": 10,
   "id": "1d26cf5e-da91-4e39-a5d7-fcf95274fb98",
   "metadata": {},
   "outputs": [
    {
     "data": {
      "text/html": [
       "<div>\n",
       "<style scoped>\n",
       "    .dataframe tbody tr th:only-of-type {\n",
       "        vertical-align: middle;\n",
       "    }\n",
       "\n",
       "    .dataframe tbody tr th {\n",
       "        vertical-align: top;\n",
       "    }\n",
       "\n",
       "    .dataframe thead th {\n",
       "        text-align: right;\n",
       "    }\n",
       "</style>\n",
       "<table border=\"1\" class=\"dataframe\">\n",
       "  <thead>\n",
       "    <tr style=\"text-align: right;\">\n",
       "      <th></th>\n",
       "      <th>pageview_id</th>\n",
       "      <th>User ID</th>\n",
       "      <th>known_diagnosis</th>\n",
       "      <th>page_category</th>\n",
       "      <th>Device_Type</th>\n",
       "      <th>page_topic_description</th>\n",
       "      <th>session_start_time</th>\n",
       "      <th>asset_loaded_time</th>\n",
       "      <th>time of day</th>\n",
       "      <th>Return Visitor</th>\n",
       "      <th>Asset Shown</th>\n",
       "      <th>Conversion</th>\n",
       "    </tr>\n",
       "  </thead>\n",
       "  <tbody>\n",
       "    <tr>\n",
       "      <th>0</th>\n",
       "      <td>14afd810-bee0-4dde-984a-f36e5082cc13</td>\n",
       "      <td>00007820-89cb-4c1d-9940-eb270d605a35</td>\n",
       "      <td></td>\n",
       "      <td>nauseaandvomiting</td>\n",
       "      <td>tablet</td>\n",
       "      <td>abdominal_pain</td>\n",
       "      <td>2023-08-26 09:18:09.785</td>\n",
       "      <td>2023-08-26 09:19:00.025</td>\n",
       "      <td>9</td>\n",
       "      <td>0</td>\n",
       "      <td>B</td>\n",
       "      <td>0</td>\n",
       "    </tr>\n",
       "    <tr>\n",
       "      <th>1</th>\n",
       "      <td>264d4634-8b76-4043-aa6a-768225dba92b</td>\n",
       "      <td>00012b55-514c-421e-9c76-3300abbc1134</td>\n",
       "      <td></td>\n",
       "      <td>nauseaandvomiting</td>\n",
       "      <td>mobile</td>\n",
       "      <td>abdominal_pain</td>\n",
       "      <td>2023-08-13 18:47:03.635</td>\n",
       "      <td>2023-08-13 18:48:01.275</td>\n",
       "      <td>18</td>\n",
       "      <td>0</td>\n",
       "      <td>B</td>\n",
       "      <td>0</td>\n",
       "    </tr>\n",
       "    <tr>\n",
       "      <th>2</th>\n",
       "      <td>8759fa0b-3596-4306-b46c-aa2303490211</td>\n",
       "      <td>000157c1-b6a3-4c86-82c7-9ec1bda3799a</td>\n",
       "      <td>Ulcerative Colitis</td>\n",
       "      <td>nauseaandvomiting</td>\n",
       "      <td>desktop</td>\n",
       "      <td>food_poisoning</td>\n",
       "      <td>2023-08-28 11:19:24.177</td>\n",
       "      <td>2023-08-28 11:20:04.347</td>\n",
       "      <td>11</td>\n",
       "      <td>0</td>\n",
       "      <td>A</td>\n",
       "      <td>0</td>\n",
       "    </tr>\n",
       "    <tr>\n",
       "      <th>3</th>\n",
       "      <td>287d4980-19be-4654-bdd0-344ab656bcc3</td>\n",
       "      <td>00020400-efab-4b10-8812-2a0aaf774841</td>\n",
       "      <td></td>\n",
       "      <td>nauseaandvomiting</td>\n",
       "      <td>tablet</td>\n",
       "      <td>food_poisoning</td>\n",
       "      <td>2023-08-12 00:23:40.564</td>\n",
       "      <td>2023-08-12 00:24:11.854</td>\n",
       "      <td>0</td>\n",
       "      <td>1</td>\n",
       "      <td>A</td>\n",
       "      <td>0</td>\n",
       "    </tr>\n",
       "    <tr>\n",
       "      <th>4</th>\n",
       "      <td>4c6e84c5-448d-4211-a307-a1e26a34f8ea</td>\n",
       "      <td>0002f737-0cda-48fb-91ed-533f3d0eab05</td>\n",
       "      <td></td>\n",
       "      <td>nauseaandvomiting</td>\n",
       "      <td>mobile</td>\n",
       "      <td>food_poisoning</td>\n",
       "      <td>2023-08-07 11:29:20.634</td>\n",
       "      <td>2023-08-07 11:30:02.834</td>\n",
       "      <td>11</td>\n",
       "      <td>0</td>\n",
       "      <td>A</td>\n",
       "      <td>0</td>\n",
       "    </tr>\n",
       "  </tbody>\n",
       "</table>\n",
       "</div>"
      ],
      "text/plain": [
       "                            pageview_id                               User ID  \\\n",
       "0  14afd810-bee0-4dde-984a-f36e5082cc13  00007820-89cb-4c1d-9940-eb270d605a35   \n",
       "1  264d4634-8b76-4043-aa6a-768225dba92b  00012b55-514c-421e-9c76-3300abbc1134   \n",
       "2  8759fa0b-3596-4306-b46c-aa2303490211  000157c1-b6a3-4c86-82c7-9ec1bda3799a   \n",
       "3  287d4980-19be-4654-bdd0-344ab656bcc3  00020400-efab-4b10-8812-2a0aaf774841   \n",
       "4  4c6e84c5-448d-4211-a307-a1e26a34f8ea  0002f737-0cda-48fb-91ed-533f3d0eab05   \n",
       "\n",
       "      known_diagnosis      page_category Device_Type page_topic_description  \\\n",
       "0                      nauseaandvomiting      tablet         abdominal_pain   \n",
       "1                      nauseaandvomiting      mobile         abdominal_pain   \n",
       "2  Ulcerative Colitis  nauseaandvomiting     desktop         food_poisoning   \n",
       "3                      nauseaandvomiting      tablet         food_poisoning   \n",
       "4                      nauseaandvomiting      mobile         food_poisoning   \n",
       "\n",
       "       session_start_time       asset_loaded_time  time of day  \\\n",
       "0 2023-08-26 09:18:09.785 2023-08-26 09:19:00.025            9   \n",
       "1 2023-08-13 18:47:03.635 2023-08-13 18:48:01.275           18   \n",
       "2 2023-08-28 11:19:24.177 2023-08-28 11:20:04.347           11   \n",
       "3 2023-08-12 00:23:40.564 2023-08-12 00:24:11.854            0   \n",
       "4 2023-08-07 11:29:20.634 2023-08-07 11:30:02.834           11   \n",
       "\n",
       "   Return Visitor Asset Shown  Conversion  \n",
       "0               0           B           0  \n",
       "1               0           B           0  \n",
       "2               0           A           0  \n",
       "3               1           A           0  \n",
       "4               0           A           0  "
      ]
     },
     "execution_count": 10,
     "metadata": {},
     "output_type": "execute_result"
    }
   ],
   "source": [
    "data.head()"
   ]
  },
  {
   "cell_type": "code",
   "execution_count": 12,
   "id": "af6b897a-8e78-418e-8f21-a16c53e01fa1",
   "metadata": {},
   "outputs": [
    {
     "name": "stdout",
     "output_type": "stream",
     "text": [
      "<class 'pandas.core.frame.DataFrame'>\n",
      "RangeIndex: 100000 entries, 0 to 99999\n",
      "Data columns (total 12 columns):\n",
      " #   Column                  Non-Null Count   Dtype         \n",
      "---  ------                  --------------   -----         \n",
      " 0   pageview_id             100000 non-null  object        \n",
      " 1   User ID                 100000 non-null  object        \n",
      " 2   known_diagnosis         99858 non-null   object        \n",
      " 3   page_category           100000 non-null  object        \n",
      " 4   Device_Type             100000 non-null  object        \n",
      " 5   page_topic_description  100000 non-null  object        \n",
      " 6   session_start_time      100000 non-null  datetime64[ns]\n",
      " 7   asset_loaded_time       100000 non-null  datetime64[ns]\n",
      " 8   time of day             100000 non-null  int64         \n",
      " 9   Return Visitor          100000 non-null  int64         \n",
      " 10  Asset Shown             100000 non-null  object        \n",
      " 11  Conversion              100000 non-null  int64         \n",
      "dtypes: datetime64[ns](2), int64(3), object(7)\n",
      "memory usage: 9.2+ MB\n"
     ]
    },
    {
     "data": {
      "text/plain": [
       "pageview_id                 0\n",
       "User ID                     0\n",
       "known_diagnosis           142\n",
       "page_category               0\n",
       "Device_Type                 0\n",
       "page_topic_description      0\n",
       "session_start_time          0\n",
       "asset_loaded_time           0\n",
       "time of day                 0\n",
       "Return Visitor              0\n",
       "Asset Shown                 0\n",
       "Conversion                  0\n",
       "dtype: int64"
      ]
     },
     "execution_count": 12,
     "metadata": {},
     "output_type": "execute_result"
    }
   ],
   "source": [
    "data.info()\n",
    "data.isnull().sum()"
   ]
  },
  {
   "cell_type": "code",
   "execution_count": 20,
   "id": "3a17b616-8bae-45d2-baaa-cb4a44bdd753",
   "metadata": {},
   "outputs": [],
   "source": [
    "# TASK 1"
   ]
  },
  {
   "cell_type": "code",
   "execution_count": 22,
   "id": "41f47df8-ae36-4f3b-8020-c2d997d62545",
   "metadata": {},
   "outputs": [
    {
     "name": "stdout",
     "output_type": "stream",
     "text": [
      "Unique values in 'Asset Shown': ['B' 'A' 'C']\n",
      "Unique values in 'Conversion': [0 1]\n"
     ]
    }
   ],
   "source": [
    "# Check unique values in 'Asset Shown' and 'Conversion'\n",
    "print(\"Unique values in 'Asset Shown':\", data['Asset Shown'].unique())\n",
    "print(\"Unique values in 'Conversion':\", data['Conversion'].unique())"
   ]
  },
  {
   "cell_type": "code",
   "execution_count": 16,
   "id": "b9a12037-6b2a-404e-877e-9f198ef1307e",
   "metadata": {},
   "outputs": [
    {
     "name": "stdout",
     "output_type": "stream",
     "text": [
      "Total Conversions by Asset:\n",
      "Asset Shown\n",
      "A    6031\n",
      "B    1960\n",
      "C    2985\n",
      "Name: Conversion, dtype: int64\n",
      "\n",
      "Conversion Rate by Asset:\n",
      "Asset Shown\n",
      "A    0.109655\n",
      "B    0.071273\n",
      "C    0.170571\n",
      "Name: Conversion, dtype: float64\n"
     ]
    }
   ],
   "source": [
    "# Count total conversions for each asset\n",
    "conversion_counts = data[data['Conversion'] == 1].groupby('Asset Shown')['Conversion'].count()\n",
    "print(\"Total Conversions by Asset:\")\n",
    "print(conversion_counts)\n",
    "\n",
    "# Calculate conversion rates for each asset\n",
    "conversion_rates = data.groupby('Asset Shown')['Conversion'].mean()\n",
    "print(\"\\nConversion Rate by Asset:\")\n",
    "print(conversion_rates)"
   ]
  },
  {
   "cell_type": "code",
   "execution_count": 26,
   "id": "3794aaa4-ac6f-4efc-b2c0-b3106c1b29a7",
   "metadata": {},
   "outputs": [
    {
     "name": "stdout",
     "output_type": "stream",
     "text": [
      "Conversion Rate by Device Type for Each Asset:\n",
      "Asset Shown  Device_Type\n",
      "A            desktop        0.104710\n",
      "             mobile         0.113195\n",
      "             tablet         0.111105\n",
      "B            desktop        0.071709\n",
      "             mobile         0.072032\n",
      "             tablet         0.070062\n",
      "C            desktop        0.174948\n",
      "             mobile         0.170133\n",
      "             tablet         0.166723\n",
      "Name: Conversion, dtype: float64\n"
     ]
    }
   ],
   "source": [
    "conversion_by_device = data.groupby(['Asset Shown', 'Device_Type'])['Conversion'].mean()\n",
    "print(\"Conversion Rate by Device Type for Each Asset:\")\n",
    "print(conversion_by_device)"
   ]
  },
  {
   "cell_type": "code",
   "execution_count": 32,
   "id": "df21cbe3-5808-438d-8256-0da58b81ce33",
   "metadata": {},
   "outputs": [
    {
     "name": "stdout",
     "output_type": "stream",
     "text": [
      "\n",
      "Conversion Rate by Return Visitor for Each Asset:\n",
      "Asset Shown  Return Visitor\n",
      "A            0                 0.084805\n",
      "             1                 0.236259\n",
      "B            0                 0.054579\n",
      "             1                 0.161689\n",
      "C            0                 0.134220\n",
      "             1                 0.342045\n",
      "Name: Conversion, dtype: float64\n"
     ]
    }
   ],
   "source": [
    "# Conversion rate by Return Visitor status for each asset\n",
    "conversion_by_return_visitor = data.groupby(['Asset Shown', 'Return Visitor'])['Conversion'].mean()\n",
    "print(\"\\nConversion Rate by Return Visitor for Each Asset:\")\n",
    "print(conversion_by_return_visitor)"
   ]
  },
  {
   "cell_type": "code",
   "execution_count": 30,
   "id": "a5ab3e00-a588-465c-98ac-b27e5ef4bacb",
   "metadata": {},
   "outputs": [
    {
     "name": "stdout",
     "output_type": "stream",
     "text": [
      "\n",
      "Conversion Rate by Page Category for Each Asset:\n",
      "Asset Shown  page_category                \n",
      "A            crohnsdisease                    0.443697\n",
      "             nauseaandvomiting                0.065689\n",
      "             otherdigestiveproblems           0.026274\n",
      "             otherinflammatoryboweldisease    0.179660\n",
      "             ulcerativecolitis                0.358491\n",
      "B            crohnsdisease                    0.433333\n",
      "             nauseaandvomiting                0.015419\n",
      "             otherdigestiveproblems           0.000000\n",
      "             otherinflammatoryboweldisease    0.135946\n",
      "             ulcerativecolitis                0.297800\n",
      "C            crohnsdisease                    0.546196\n",
      "             nauseaandvomiting                0.130186\n",
      "             otherdigestiveproblems           0.075524\n",
      "             otherinflammatoryboweldisease    0.260110\n",
      "             ulcerativecolitis                0.491803\n",
      "Name: Conversion, dtype: float64\n"
     ]
    }
   ],
   "source": [
    "# Conversion rate by page_category for each asset\n",
    "conversion_by_page_category = data.groupby(['Asset Shown', 'page_category'])['Conversion'].mean()\n",
    "print(\"\\nConversion Rate by Page Category for Each Asset:\")\n",
    "print(conversion_by_page_category)"
   ]
  },
  {
   "cell_type": "code",
   "execution_count": 48,
   "id": "f359568f-c9b3-42c0-b3ab-b134ca488a92",
   "metadata": {},
   "outputs": [
    {
     "name": "stdout",
     "output_type": "stream",
     "text": [
      "Total Revenue by Asset:\n",
      "Asset Shown\n",
      "A    30155.0\n",
      "B    13720.0\n",
      "C     7462.5\n",
      "dtype: float64\n"
     ]
    }
   ],
   "source": [
    "# conversions given in set\n",
    "revenue_per_conversion = {'A': 5, 'B': 7, 'C': 2.5}\n",
    "# find the conversions of each asset \n",
    "conversion_counts = data[data['Conversion'] == 1].groupby('Asset Shown')['Conversion'].count()\n",
    "total_revenue = conversion_counts.mul(pd.Series(revenue_per_conversion))\n",
    "print(\"Total Revenue by Asset:\")\n",
    "print(total_revenue)"
   ]
  },
  {
   "cell_type": "code",
   "execution_count": 52,
   "id": "72399df3-c2d2-42d8-9d84-d8d9eedf1156",
   "metadata": {},
   "outputs": [
    {
     "name": "stdout",
     "output_type": "stream",
     "text": [
      "\n",
      "Revenue per Conversion by Device Type:\n",
      "Asset Shown  Device_Type\n",
      "A            desktop         9660.0\n",
      "             mobile         10350.0\n",
      "             tablet         10145.0\n",
      "B            desktop         4606.0\n",
      "             mobile          4655.0\n",
      "             tablet          4459.0\n",
      "C            desktop         2517.5\n",
      "             mobile          2495.0\n",
      "             tablet          2450.0\n",
      "dtype: float64\n",
      "\n",
      "Revenue per Conversion by Return Visitor Status:\n",
      "Asset Shown  Return Visitor\n",
      "A            0                 19495.0\n",
      "             1                 10660.0\n",
      "B            0                  8869.0\n",
      "             1                  4851.0\n",
      "C            0                  4845.0\n",
      "             1                  2617.5\n",
      "dtype: float64\n",
      "\n",
      "Revenue per Conversion by Page Category:\n",
      "Asset Shown  page_category                \n",
      "A            crohnsdisease                     2640.0\n",
      "             nauseaandvomiting                 6425.0\n",
      "             otherdigestiveproblems            2055.0\n",
      "             otherinflammatoryboweldisease    14380.0\n",
      "             ulcerativecolitis                 4655.0\n",
      "B            crohnsdisease                     1911.0\n",
      "             nauseaandvomiting                 1071.0\n",
      "             otherinflammatoryboweldisease     7042.0\n",
      "             ulcerativecolitis                 3696.0\n",
      "C            crohnsdisease                      502.5\n",
      "             nauseaandvomiting                 2275.0\n",
      "             otherdigestiveproblems             955.0\n",
      "             otherinflammatoryboweldisease     2830.0\n",
      "             ulcerativecolitis                  900.0\n",
      "dtype: float64\n"
     ]
    }
   ],
   "source": [
    "# Define the revenue per conversion for each asset\n",
    "revenue_per_conversion = {'A': 5, 'B': 7, 'C': 2.5}\n",
    "\n",
    "# 1. Revenue per Conversion by Device Type\n",
    "conversion_counts_device = data[data['Conversion'] == 1].groupby(['Asset Shown', 'Device_Type'])['Conversion'].count()\n",
    "revenue_by_device = conversion_counts_device * conversion_counts_device.index.get_level_values('Asset Shown').map(revenue_per_conversion)\n",
    "print(\"\\nRevenue per Conversion by Device Type:\")\n",
    "print(revenue_by_device)\n",
    "\n",
    "# 2. Revenue per Conversion by Return Visitor Status\n",
    "conversion_counts_return_visitor = data[data['Conversion'] == 1].groupby(['Asset Shown', 'Return Visitor'])['Conversion'].count()\n",
    "revenue_by_return_visitor = conversion_counts_return_visitor * conversion_counts_return_visitor.index.get_level_values('Asset Shown').map(revenue_per_conversion)\n",
    "print(\"\\nRevenue per Conversion by Return Visitor Status:\")\n",
    "print(revenue_by_return_visitor)\n",
    "\n",
    "# 3. Revenue per Conversion by Page Category\n",
    "conversion_counts_page_category = data[data['Conversion'] == 1].groupby(['Asset Shown', 'page_category'])['Conversion'].count()\n",
    "revenue_by_page_category = conversion_counts_page_category * conversion_counts_page_category.index.get_level_values('Asset Shown').map(revenue_per_conversion)\n",
    "print(\"\\nRevenue per Conversion by Page Category:\")\n",
    "print(revenue_by_page_category)"
   ]
  },
  {
   "cell_type": "code",
   "execution_count": 74,
   "id": "5280280e-83b9-406c-8aa2-46b82a572163",
   "metadata": {},
   "outputs": [
    {
     "name": "stdout",
     "output_type": "stream",
     "text": [
      "Expected Incremental Revenue from Switching 'nauseaandvomiting' Pages from Asset B to Asset C: 2847.901\n"
     ]
    }
   ],
   "source": [
    "# the number of page views for \"nauseaandvomiting\" pages currently shown Asset B\n",
    "# find the number of pages because 1.54 only represents a 100 ppl\n",
    "page_views_nausea_asset_b = data[(data['page_category'] == 'nauseaandvomiting') & (data['Asset Shown'] == 'B')].shape[0]\n",
    "\n",
    "# Define the expected increase in conversion rate (11.48% as a decimal)\n",
    "expected_increase_in_conversion_rate = 0.1148\n",
    "\n",
    "# Revenue per conversion for Asset C\n",
    "revenue_per_conversion_c = 2.50\n",
    "\n",
    "# Calculate the incremental revenue\n",
    "# Incremental Revenue = Increase in Conversion Rate * Number of Page Views * Revenue per Conversion\n",
    "incremental_revenue = expected_increase_in_conversion_rate * page_views_nausea_asset_b * revenue_per_conversion_c\n",
    "\n",
    "# result\n",
    "print(\"Expected Incremental Revenue from Switching 'nauseaandvomiting' Pages from Asset B to Asset C:\", incremental_revenue)\n"
   ]
  },
  {
   "cell_type": "code",
   "execution_count": null,
   "id": "94a3a3cb-4e43-40e8-86e4-f2f0f4922aa7",
   "metadata": {},
   "outputs": [],
   "source": []
  }
 ],
 "metadata": {
  "kernelspec": {
   "display_name": "Python 3 (ipykernel)",
   "language": "python",
   "name": "python3"
  },
  "language_info": {
   "codemirror_mode": {
    "name": "ipython",
    "version": 3
   },
   "file_extension": ".py",
   "mimetype": "text/x-python",
   "name": "python",
   "nbconvert_exporter": "python",
   "pygments_lexer": "ipython3",
   "version": "3.12.4"
  }
 },
 "nbformat": 4,
 "nbformat_minor": 5
}
